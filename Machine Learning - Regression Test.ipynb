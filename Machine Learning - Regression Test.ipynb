{
 "cells": [
  {
   "cell_type": "markdown",
   "metadata": {},
   "source": [
    "1) On a piece of paper, explain what a linear regression model is.  Include a discussion of the cost function, and minimizing the cost function.\n",
    "\n",
    "2) Justify the cost function using maximum likelihood estimation.\n",
    "\n",
    "3) How can you be sure the cost function is finding a minimum?\n",
    "\n",
    "4) How do you deal with features that are one vastly different scales?\n",
    "\n",
    "5) Assuming the errors on our measurements are normally distributed, explain how to measure the p-value of the regression, as well as the r-squared value. \n",
    "\n",
    "6) What is another name for r-squared?\n",
    "\n",
    "7) On a piece of paper, explain what regularization is.  Explain L1, L2, and Elastic-net regularization.  Explain what a ridge regression is, and what a LASSO regression is, and use them to illustrate the difference between L1 and L2.  Show this difference graphically as well.\n",
    "\n",
    "8) What is the proper way to evaluate the performance of a regression model?  What is overfitting and underfitting? How can you improve a model that is overfit or underfit? Describe two plots that can be used to determine if the model is underfit or overfit.  Also describe how each of these would look in each case.\n",
    "\n",
    "9) Write python code to perform a linear regression with scikit-learn\n",
    "\n",
    "10) Write python code to perform a maximum likelihood estimation for a linear model with normally distributed errors.\n",
    "\n",
    "\n"
   ]
  },
  {
   "cell_type": "code",
   "execution_count": 10,
   "metadata": {
    "collapsed": false
   },
   "outputs": [
    {
     "name": "stderr",
     "output_type": "stream",
     "text": [
      "/Users/richardknoche/anaconda/lib/python3.5/site-packages/scipy/linalg/basic.py:884: RuntimeWarning: internal gelsd driver lwork query error, required iwork dimension not returned. This is likely the result of LAPACK bug 0038, fixed in LAPACK 3.2.2 (released July 21, 2010). Falling back to 'gelss' driver.\n",
      "  warnings.warn(mesg, RuntimeWarning)\n"
     ]
    },
    {
     "data": {
      "text/plain": [
       "LinearRegression(copy_X=True, fit_intercept=True, n_jobs=1, normalize=False)"
      ]
     },
     "execution_count": 10,
     "metadata": {},
     "output_type": "execute_result"
    }
   ],
   "source": [
    "import sklearn.linear_model\n",
    "import numpy as np\n",
    "\n",
    "x = np.linspace(0,10,30)\n",
    "y = 5.5*x + 3\n",
    "\n",
    "model=sklearn.linear_model.LinearRegression()\n",
    "model.fit(x.reshape(x.size,1),y)"
   ]
  },
  {
   "cell_type": "code",
   "execution_count": 14,
   "metadata": {
    "collapsed": false
   },
   "outputs": [
    {
     "data": {
      "text/plain": [
       "1.0"
      ]
     },
     "execution_count": 14,
     "metadata": {},
     "output_type": "execute_result"
    }
   ],
   "source": [
    "model.score(x.reshape(x.size,1),y)"
   ]
  },
  {
   "cell_type": "code",
   "execution_count": null,
   "metadata": {
    "collapsed": true
   },
   "outputs": [],
   "source": [
    "import scipy.optimize\n",
    "x = y = np.linspace(0,10,30)\n",
    "X,Y = np.meshgrid(x,y)\n",
    "Z = 5.5*X + 3*Y + 2 + np.random.normal(0,0.5,size=X.shape)\n",
    "\n",
    "def NLL(theta,inp,outp):\n",
    "    model = theta[0]*inp[0] + theta[1]*inp[1]+theta[2]\n",
    "    return (1/(2*0.5))*np.sum( (model-outp))"
   ]
  }
 ],
 "metadata": {
  "kernelspec": {
   "display_name": "Python 3",
   "language": "python",
   "name": "python3"
  },
  "language_info": {
   "codemirror_mode": {
    "name": "ipython",
    "version": 3
   },
   "file_extension": ".py",
   "mimetype": "text/x-python",
   "name": "python",
   "nbconvert_exporter": "python",
   "pygments_lexer": "ipython3",
   "version": "3.5.1"
  }
 },
 "nbformat": 4,
 "nbformat_minor": 0
}

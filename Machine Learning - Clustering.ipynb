{
 "cells": [
  {
   "cell_type": "markdown",
   "metadata": {},
   "source": [
    "Clustering algorithms are useful for automatically picking out groups of data.  The K-means clustering algorithm is the most popular clustering algorithm.  The algorithm is as follows:\n",
    "\n",
    "1) Randomly initialize K cluster centroids, typically assigned to random data points.\n",
    "\n",
    "2) Assign each data point to the closest cluster centroid\n",
    "\n",
    "3) Move the cluster centroids to the center of each of the new clusters\n",
    "\n",
    "4) Iterate steps 2 and 3\n",
    "\n",
    "Mathematically, the optimization objective is to minimize the sum of the squared distance between each point and it's corresponding cluster centroid.  With each cluster represented by $C_i$:\n",
    "\n",
    "$J(C,\\mu) = \\frac{1}{n} \\sum_{i=1}^{n} (x_i - \\mu(C(x_i)) )^2$\n",
    "\n",
    "In the outline above, step 3 minimizes the $J$ with respect to $C$, and step 4 minmize $J$ with respect to $\\mu$.\n",
    "\n",
    "Note that K-means can end up in a local minimum.  To avoid this, the algorithm is typicaly run over multiple random intialization states, and the state with the lowest minimum for the cost function is chosen as the final result.\n",
    "\n",
    "You often choose the number of clusters based on whatever the downstream purpose of the clustering is.  However, it can sometimes be useful to plot the cost function versus the number of clusters, and see if there is an elbow at a particular number of clusters."
   ]
  },
  {
   "cell_type": "code",
   "execution_count": 9,
   "metadata": {
    "collapsed": false
   },
   "outputs": [
    {
     "data": {
      "text/plain": [
       "<matplotlib.collections.PathCollection at 0x1133a4358>"
      ]
     },
     "execution_count": 9,
     "metadata": {},
     "output_type": "execute_result"
    },
    {
     "data": {
      "image/png": "[encoded data removed]",
      "text/plain": [
       "<matplotlib.figure.Figure at 0x11322ebe0>"
      ]
     },
     "metadata": {},
     "output_type": "display_data"
    }
   ],
   "source": [
    "#Generate two clusters of data\n",
    "import numpy as np\n",
    "from matplotlib import pyplot as plt\n",
    "%matplotlib inline\n",
    "\n",
    "x = np.random.normal(5,size=30)\n",
    "y = np.random.normal(5,size=30)\n",
    "\n",
    "x2 = np.random.normal(0,size=30)\n",
    "y2 = np.random.normal(0,size=30)\n",
    "\n",
    "x=np.concatenate([x,x2])\n",
    "y=np.concatenate([y,y2])\n",
    "\n",
    "plt.scatter(x,y)"
   ]
  },
  {
   "cell_type": "code",
   "execution_count": 29,
   "metadata": {
    "collapsed": false
   },
   "outputs": [
    {
     "data": {
      "text/plain": [
       "<matplotlib.collections.PathCollection at 0x113a1a630>"
      ]
     },
     "execution_count": 29,
     "metadata": {},
     "output_type": "execute_result"
    },
    {
     "data": {
      "image/png": "[encoded data removed]",
      "text/plain": [
       "<matplotlib.figure.Figure at 0x1138f49e8>"
      ]
     },
     "metadata": {},
     "output_type": "display_data"
    }
   ],
   "source": [
    "#K-means with Scikit-learn\n",
    "\n",
    "import sklearn.cluster\n",
    "\n",
    "model = sklearn.cluster.KMeans(n_clusters=2)\n",
    "model.fit(np.stack([x,y],axis=1))\n",
    "\n",
    "colors=[]\n",
    "for color in model.labels_:\n",
    "    if color == 1:\n",
    "        colors.append('b')\n",
    "    if color == 0:\n",
    "        colors.append('r')\n",
    "\n",
    "plt.scatter(x,y,color=colors)"
   ]
  },
  {
   "cell_type": "code",
   "execution_count": null,
   "metadata": {
    "collapsed": true
   },
   "outputs": [],
   "source": []
  }
 ],
 "metadata": {
  "kernelspec": {
   "display_name": "Python 3",
   "language": "python",
   "name": "python3"
  },
  "language_info": {
   "codemirror_mode": {
    "name": "ipython",
    "version": 3
   },
   "file_extension": ".py",
   "mimetype": "text/x-python",
   "name": "python",
   "nbconvert_exporter": "python",
   "pygments_lexer": "ipython3",
   "version": "3.5.1"
  }
 },
 "nbformat": 4,
 "nbformat_minor": 0
}

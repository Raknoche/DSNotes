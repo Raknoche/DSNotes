{
 "cells": [
  {
   "cell_type": "code",
   "execution_count": 22,
   "metadata": {
    "collapsed": true
   },
   "outputs": [],
   "source": [
    "#Scipy provides a collection of algorithms to run over numpy arrays\n",
    "#Here we will only cover a few of the very useful submodules\n",
    "import numpy as np"
   ]
  },
  {
   "cell_type": "markdown",
   "metadata": {},
   "source": [
    "# Integration"
   ]
  },
  {
   "cell_type": "code",
   "execution_count": 62,
   "metadata": {
    "collapsed": false
   },
   "outputs": [
    {
     "data": {
      "text/plain": [
       "0.8862269254527579"
      ]
     },
     "execution_count": 62,
     "metadata": {},
     "output_type": "execute_result"
    }
   ],
   "source": [
    "# To numerically solve a definite integral, use scipy.integrate.quad\n",
    "# Note: also provides dblquad,tplquad, and nquad for multivariate integration\n",
    "# Note: for infinity, use np.inf\n",
    "import scipy.integrate\n",
    "f = lambda x: np.exp(-x**2)\n",
    "ans, err = scipy.integrate.quad(f,0,np.inf)\n",
    "ans"
   ]
  },
  {
   "cell_type": "markdown",
   "metadata": {},
   "source": [
    "# Interpolation"
   ]
  },
  {
   "cell_type": "code",
   "execution_count": 112,
   "metadata": {
    "collapsed": false
   },
   "outputs": [
    {
     "data": {
      "text/plain": [
       "array(81.11111111111111)"
      ]
     },
     "execution_count": 112,
     "metadata": {},
     "output_type": "execute_result"
    }
   ],
   "source": [
    "import scipy.interpolate\n",
    "\n",
    "#Given data\n",
    "x_data = np.linspace(0,10,10)\n",
    "y_data = x_data**2\n",
    "\n",
    "#1D interpolation (1D extrapolate won't work with spline)\n",
    "interp_func = scipy.interpolate.interp1d(x_data,y_data,kind=\"linear\",fill_value=\"extrapolate\")\n",
    "interp_func(9)"
   ]
  },
  {
   "cell_type": "code",
   "execution_count": 74,
   "metadata": {
    "collapsed": false
   },
   "outputs": [
    {
     "data": {
      "text/plain": [
       "array(120.99999999999994)"
      ]
     },
     "execution_count": 74,
     "metadata": {},
     "output_type": "execute_result"
    }
   ],
   "source": [
    "#1D Cubic spline with extrapolation\n",
    "interp_func = scipy.interpolate.CubicSpline(x_data,y_data,extrapolate=True)\n",
    "interp_func(11)"
   ]
  },
  {
   "cell_type": "code",
   "execution_count": 92,
   "metadata": {
    "collapsed": false
   },
   "outputs": [
    {
     "data": {
      "text/plain": [
       "array([-0.8732973])"
      ]
     },
     "execution_count": 92,
     "metadata": {},
     "output_type": "execute_result"
    }
   ],
   "source": [
    "#2D interpolation -- will exptrolate unless fill_value is specified\n",
    "\n",
    "#Given data\n",
    "x_data = np.linspace(0,10,10)\n",
    "y_data = np.linspace(0,10,10)\n",
    "xx, yy = np.meshgrid(x_data, y_data)\n",
    "f_data = np.sin(xx**2 + yy**2)\n",
    "\n",
    "interp_func=scipy.interpolate.interp2d(xx,yy,f_data,kind='linear')\n",
    "interp_func(11,11)"
   ]
  },
  {
   "cell_type": "markdown",
   "metadata": {},
   "source": [
    "# Fitting"
   ]
  },
  {
   "cell_type": "code",
   "execution_count": 33,
   "metadata": {
    "collapsed": false
   },
   "outputs": [
    {
     "data": {
      "text/plain": [
       "100.0"
      ]
     },
     "execution_count": 33,
     "metadata": {},
     "output_type": "execute_result"
    }
   ],
   "source": [
    "# Polynomial fitting comes from numpy\n",
    "poly_func = np.polyfit(x_data,y_data,2)\n",
    "np.polyval(poly_func,10)"
   ]
  },
  {
   "cell_type": "code",
   "execution_count": 60,
   "metadata": {
    "collapsed": false
   },
   "outputs": [
    {
     "data": {
      "text/plain": [
       "array([ 2. ,  1. ,  0.5])"
      ]
     },
     "execution_count": 60,
     "metadata": {},
     "output_type": "execute_result"
    }
   ],
   "source": [
    "# General curve fitting comes from scipy.optimize\n",
    "import scipy.optimize\n",
    "\n",
    "#Define general curve\n",
    "#The curve can be multivariate, with the dependent variables passed as a tuple\n",
    "#If we have f(x,y) we can pass x as a tuple\n",
    "f = lambda variables,a,b,c: a*np.exp(-b*variables[0]) + c*variables[1]\n",
    "\n",
    "#Generate given data for 2D function f(x,y)\n",
    "x_data = np.linspace(0,4,50)\n",
    "y_data = np.linspace(0,2,50)\n",
    "f_out = f((x_data,y_data),2,1,0.5)\n",
    "\n",
    "#Fit to the given data\n",
    "params, extra = scipy.optimize.curve_fit(f,(x_data,y_data),f_out)\n",
    "params"
   ]
  }
 ],
 "metadata": {
  "kernelspec": {
   "display_name": "Python 3",
   "language": "python",
   "name": "python3"
  },
  "language_info": {
   "codemirror_mode": {
    "name": "ipython",
    "version": 3
   },
   "file_extension": ".py",
   "mimetype": "text/x-python",
   "name": "python",
   "nbconvert_exporter": "python",
   "pygments_lexer": "ipython3",
   "version": "3.5.1"
  }
 },
 "nbformat": 4,
 "nbformat_minor": 0
}

{
 "cells": [
  {
   "cell_type": "markdown",
   "metadata": {},
   "source": [
    "# Task One\n",
    "Import matplotlib, setting default font size to 14 and default fig size to (14,7)"
   ]
  },
  {
   "cell_type": "code",
   "execution_count": null,
   "metadata": {
    "collapsed": false
   },
   "outputs": [],
   "source": []
  },
  {
   "cell_type": "markdown",
   "metadata": {},
   "source": [
    "# Task Two\n",
    "\n",
    "1) Generate random X data from numpy, and set Y data to be the sin of the X data\n",
    "\n",
    "2) Using plt.subplots do the following:\n",
    "  * Make a scatter plot of x and y\n",
    "  * Include a title, x label, y label, and legend using the axis object\n",
    "  * Automatically set the margins of the plot to be tight\n",
    "  * Set the x-axis to be log scale\n",
    "  * Turn on the grid\n",
    "  * Using the axis object, set the x-axis ticks manually"
   ]
  },
  {
   "cell_type": "code",
   "execution_count": null,
   "metadata": {
    "collapsed": false
   },
   "outputs": [],
   "source": []
  },
  {
   "cell_type": "code",
   "execution_count": null,
   "metadata": {
    "collapsed": false
   },
   "outputs": [],
   "source": []
  },
  {
   "cell_type": "markdown",
   "metadata": {},
   "source": [
    "# Task Three\n",
    "1) Generate random X data from numpy, and set Y data to be the sin of the X data.  Sort the arrays in order by X.\n",
    "\n",
    "2) Using plt.figure() do the following:\n",
    "  * Using plt, make a line plot of x and y, setting the figure size to (10,4)\n",
    "  * Using plt, set the xlabel,ylabel, title, and legend\n",
    "  * Using the axis object, set the axis limits to 1<x<8 and -1<y<0.8\n",
    "  * Using the plt function, set x and y ticks\n",
    "  * Add text anywhere on the plot, that includes the equation for y\n",
    "  * Between x=2 and x=7, fill above and below the line by 10% of the value of y"
   ]
  },
  {
   "cell_type": "code",
   "execution_count": null,
   "metadata": {
    "collapsed": false
   },
   "outputs": [],
   "source": []
  },
  {
   "cell_type": "code",
   "execution_count": null,
   "metadata": {
    "collapsed": false
   },
   "outputs": [],
   "source": []
  },
  {
   "cell_type": "markdown",
   "metadata": {},
   "source": [
    "# Task Four\n",
    "1) Generate normally distributed x and y data using numpy.  Make each array have 5000 points.  Have X centered at 4, and Y centered at 2\n",
    "\n",
    "2) Make the following plot: \n",
    "  * Plot a 2D histogram of the X and Y data, with 20 bins on each axis\n",
    "  * Set xlabel, ylabel, and titles\n",
    "  * Use the \"BuGn\" colormap\n",
    "  * Include a labeled colorbar\n",
    "  * Set everything under a count of 15 to be white\n",
    "  \n",
    "3) Make the following plot:\n",
    "  * Plot the contour lines of the 2D histogram\n",
    "  * Plot the filled contours of the 2D histogram\n",
    "  * Set the color of anything with count < 15 to be white\n",
    "  * Use the \"BuGn\" colormap\n",
    "  * Include a labeled colorbar\n",
    "  * Overlay a faint scatterplot of the x and y points\n",
    "  \n",
    "4) Make a histogram of X, with bins ranging from 0 to 10 in steps of 0.1.  Overlay a red line that traces the shape of the histogram"
   ]
  },
  {
   "cell_type": "code",
   "execution_count": null,
   "metadata": {
    "collapsed": false
   },
   "outputs": [],
   "source": []
  },
  {
   "cell_type": "code",
   "execution_count": null,
   "metadata": {
    "collapsed": false
   },
   "outputs": [],
   "source": []
  },
  {
   "cell_type": "code",
   "execution_count": null,
   "metadata": {
    "collapsed": false
   },
   "outputs": [],
   "source": []
  },
  {
   "cell_type": "markdown",
   "metadata": {},
   "source": [
    "# Task Five\n",
    "\n",
    "1) Using numpy, generate a multivariate function f(x,y) = x^2 + y from -10 to 10\n",
    "\n",
    "2) Plot a 3D scatterplot of f\n",
    "\n",
    "3) Plot the surface of f"
   ]
  },
  {
   "cell_type": "code",
   "execution_count": null,
   "metadata": {
    "collapsed": false
   },
   "outputs": [],
   "source": []
  },
  {
   "cell_type": "code",
   "execution_count": null,
   "metadata": {
    "collapsed": false
   },
   "outputs": [],
   "source": []
  },
  {
   "cell_type": "markdown",
   "metadata": {},
   "source": [
    "# Additional Numpy tasks\n",
    "\n",
    "1) Generate an array from 0 to 10 (inclusive), in steps of 1\n"
   ]
  },
  {
   "cell_type": "code",
   "execution_count": null,
   "metadata": {
    "collapsed": false
   },
   "outputs": [],
   "source": []
  },
  {
   "cell_type": "markdown",
   "metadata": {},
   "source": [
    "2) Generate an array from 0 to 10 (inclusive), divided into 10 bins"
   ]
  },
  {
   "cell_type": "code",
   "execution_count": null,
   "metadata": {
    "collapsed": false
   },
   "outputs": [],
   "source": []
  },
  {
   "cell_type": "markdown",
   "metadata": {},
   "source": [
    "3) Generate an array with 4 rows and 5 columns, filled with zeros"
   ]
  },
  {
   "cell_type": "code",
   "execution_count": null,
   "metadata": {
    "collapsed": false
   },
   "outputs": [],
   "source": []
  },
  {
   "cell_type": "markdown",
   "metadata": {},
   "source": [
    "\n",
    "4) Generate an array with 3 rows and 6 columns, filled with random integers between 3 and 5"
   ]
  },
  {
   "cell_type": "code",
   "execution_count": null,
   "metadata": {
    "collapsed": false
   },
   "outputs": [],
   "source": []
  },
  {
   "cell_type": "markdown",
   "metadata": {},
   "source": [
    "\n",
    "5) Generate an 5000x1 array from a normal distribution, and verify it with a histogram\n"
   ]
  },
  {
   "cell_type": "code",
   "execution_count": null,
   "metadata": {
    "collapsed": false
   },
   "outputs": [],
   "source": []
  },
  {
   "cell_type": "markdown",
   "metadata": {},
   "source": [
    "\n",
    "6) Generate and assign a 4x4 array, filled with random floats between 2 and 12\n"
   ]
  },
  {
   "cell_type": "code",
   "execution_count": null,
   "metadata": {
    "collapsed": false
   },
   "outputs": [],
   "source": []
  },
  {
   "cell_type": "markdown",
   "metadata": {},
   "source": [
    "\n",
    "7) Reshape the last array to a 2x8 array\n"
   ]
  },
  {
   "cell_type": "code",
   "execution_count": null,
   "metadata": {
    "collapsed": false
   },
   "outputs": [],
   "source": []
  },
  {
   "cell_type": "markdown",
   "metadata": {},
   "source": [
    "\n",
    "8) Print the shape, number of dimensions, and number of elements of the previous array\n"
   ]
  },
  {
   "cell_type": "code",
   "execution_count": null,
   "metadata": {
    "collapsed": false
   },
   "outputs": [],
   "source": []
  },
  {
   "cell_type": "markdown",
   "metadata": {},
   "source": [
    "\n",
    "9) Convert the previous array to an array of strings\n"
   ]
  },
  {
   "cell_type": "code",
   "execution_count": null,
   "metadata": {
    "collapsed": false
   },
   "outputs": [],
   "source": []
  },
  {
   "cell_type": "markdown",
   "metadata": {},
   "source": [
    "\n",
    "10) Calculate the mean of the array\n"
   ]
  },
  {
   "cell_type": "code",
   "execution_count": null,
   "metadata": {
    "collapsed": false
   },
   "outputs": [],
   "source": []
  },
  {
   "cell_type": "markdown",
   "metadata": {},
   "source": [
    "\n",
    "11) Calculate the mean of each column\n"
   ]
  },
  {
   "cell_type": "code",
   "execution_count": null,
   "metadata": {
    "collapsed": false
   },
   "outputs": [],
   "source": []
  },
  {
   "cell_type": "markdown",
   "metadata": {},
   "source": [
    "\n",
    "12) Calculate the mean of each row\n"
   ]
  },
  {
   "cell_type": "code",
   "execution_count": null,
   "metadata": {
    "collapsed": false
   },
   "outputs": [],
   "source": []
  },
  {
   "cell_type": "markdown",
   "metadata": {},
   "source": [
    "\n",
    "13) Manually assign two 2x3 arrays.  Using slicing, select the first two rows and columns of each, and multiply them element-wise.  Now do matrix multiplication.\n"
   ]
  },
  {
   "cell_type": "code",
   "execution_count": null,
   "metadata": {
    "collapsed": false
   },
   "outputs": [],
   "source": []
  },
  {
   "cell_type": "markdown",
   "metadata": {},
   "source": [
    "14) Define a function that return the value if it is lower than 5, else 5.  Vectorize the function, and run it on a random array generated between 1 and 20."
   ]
  },
  {
   "cell_type": "code",
   "execution_count": null,
   "metadata": {
    "collapsed": false
   },
   "outputs": [],
   "source": []
  },
  {
   "cell_type": "markdown",
   "metadata": {},
   "source": [
    "15) Generate two identical linspace arrays. Create a mesh from the two arrays. Flatten the mesh, and stack the results n x 1 arrays together as individual columns"
   ]
  },
  {
   "cell_type": "code",
   "execution_count": null,
   "metadata": {
    "collapsed": true
   },
   "outputs": [],
   "source": []
  }
 ],
 "metadata": {
  "kernelspec": {
   "display_name": "Python 3",
   "language": "python",
   "name": "python3"
  },
  "language_info": {
   "codemirror_mode": {
    "name": "ipython",
    "version": 3
   },
   "file_extension": ".py",
   "mimetype": "text/x-python",
   "name": "python",
   "nbconvert_exporter": "python",
   "pygments_lexer": "ipython3",
   "version": "3.5.1"
  }
 },
 "nbformat": 4,
 "nbformat_minor": 0
}

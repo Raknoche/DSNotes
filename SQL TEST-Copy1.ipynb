{
 "cells": [
  {
   "cell_type": "markdown",
   "metadata": {},
   "source": [
    "Write the command to show all the databases"
   ]
  },
  {
   "cell_type": "markdown",
   "metadata": {},
   "source": [
    "SHOW Databases;"
   ]
  },
  {
   "cell_type": "markdown",
   "metadata": {},
   "source": [
    "Write the command to select a database"
   ]
  },
  {
   "cell_type": "markdown",
   "metadata": {},
   "source": [
    "USE database;"
   ]
  },
  {
   "cell_type": "markdown",
   "metadata": {},
   "source": [
    "Write the command to show all tables in a database"
   ]
  },
  {
   "cell_type": "markdown",
   "metadata": {},
   "source": [
    "SHOW TABLES;"
   ]
  },
  {
   "cell_type": "markdown",
   "metadata": {},
   "source": [
    "Write the command to list the columns and information about each table"
   ]
  },
  {
   "cell_type": "markdown",
   "metadata": {},
   "source": [
    "DESCRIBE table;"
   ]
  },
  {
   "cell_type": "markdown",
   "metadata": {},
   "source": [
    "Write a query that selects data where \"column1\" is greater than 10, \"column2\" does not equal \"pizza\", and \"column3\" is not null."
   ]
  },
  {
   "cell_type": "markdown",
   "metadata": {},
   "source": [
    "SELECT * FROM table WHERE (column1 > 10) AND (column2 != \"pizza\") AND (column3 IS NOT NULL);"
   ]
  },
  {
   "cell_type": "markdown",
   "metadata": {},
   "source": [
    "Write a query that selects data where 5 < column1 < 10"
   ]
  },
  {
   "cell_type": "markdown",
   "metadata": {},
   "source": [
    "SELECT * FROM table WHERE column1 BETWEEN 5 AND 10;"
   ]
  },
  {
   "cell_type": "markdown",
   "metadata": {},
   "source": [
    "Write a query that selects all entries from column1 that contain \"pizza\",\"burgers\", or \"fries\""
   ]
  },
  {
   "cell_type": "markdown",
   "metadata": {},
   "source": [
    "SELECT * FROM table WHERE column1 in (\"pizza\",\"burgers\",\"fries);"
   ]
  },
  {
   "cell_type": "markdown",
   "metadata": {},
   "source": [
    "Write a query that selects any entry from column1 that ends with \"ily\" plus one additional character at the end.  Sort the query by column1."
   ]
  },
  {
   "cell_type": "markdown",
   "metadata": {},
   "source": [
    "SELECT * FROM table WHERE column1 LIKE \"%ily_\" ORDERY BY column1;"
   ]
  },
  {
   "cell_type": "markdown",
   "metadata": {},
   "source": [
    "Write a query that returns all columns if column1 equals column2 + \"ily\""
   ]
  },
  {
   "cell_type": "markdown",
   "metadata": {},
   "source": [
    "SELECT * FROM table WHERE column1 = concat(column2,\"ily\");"
   ]
  },
  {
   "cell_type": "markdown",
   "metadata": {},
   "source": [
    "Write a query that returns 1 if column1 is greater than 5, and 0 if it is less than five.  Limit the return to 10 entries."
   ]
  },
  {
   "cell_type": "markdown",
   "metadata": {},
   "source": [
    "SELECT column1 > 5 FROM table LIMIT 10;"
   ]
  },
  {
   "cell_type": "markdown",
   "metadata": {},
   "source": [
    "Write a query that uses an inner select, and references data from the outer table within the inner select."
   ]
  },
  {
   "cell_type": "markdown",
   "metadata": {},
   "source": [
    "SELECT * FROM table a WHERE a.pop >= ALL(SELECT b.pop FROM table.b WHERE b.continent = a.continent);"
   ]
  },
  {
   "cell_type": "markdown",
   "metadata": {},
   "source": [
    "Write a query that select the sum of column1 and the average of column2"
   ]
  },
  {
   "cell_type": "markdown",
   "metadata": {},
   "source": [
    "SELECT sum(column1), AVG(column2) FROM table;"
   ]
  },
  {
   "cell_type": "markdown",
   "metadata": {},
   "source": [
    "Write a query that groups by column1, and calculates the max of the columns for each group.  Do not include any rows where column2 is greater than 10 when calculating the max of each column. Do not return any groups that have a max less than 5."
   ]
  },
  {
   "cell_type": "markdown",
   "metadata": {},
   "source": [
    "SELECT MAX(*) FROM table WHERE column2 < 10 GROUP BY column1 HAVING MAX(*) >= 5;"
   ]
  },
  {
   "cell_type": "markdown",
   "metadata": {},
   "source": [
    "Describe the four types of joins"
   ]
  },
  {
   "cell_type": "markdown",
   "metadata": {},
   "source": [
    "INNER JOIN: INTERSECTION OF THE TWO TABLES\n",
    "LEFT JOIN: PLACES COLUMNS FROM B INTO A.  IF B DOESN\"T HAVE DATA FOR A PARTICULAR KEY IN TABLE A, THE ENTRIES IN TABLE A WILL BE FILLED WITH NULL\n",
    "RIGHT JOIN\n",
    "FULL OUTER JOIN: UNION OF THE TWO TABLES"
   ]
  },
  {
   "cell_type": "markdown",
   "metadata": {},
   "source": [
    "Write a query that performs and inner join on table1 and table2.  Provide aliases for both tables, and join on table1's column1 and table2's column3."
   ]
  },
  {
   "cell_type": "markdown",
   "metadata": {},
   "source": [
    "SELECT * FROM table1 a JOIN table2 b ON (a.column1 = b.column3);"
   ]
  },
  {
   "cell_type": "markdown",
   "metadata": {},
   "source": [
    "Write a query that performs a self join on table1, joining on column1.  Group the results by column2, then column3, and eliminate duplicates from the return."
   ]
  },
  {
   "cell_type": "markdown",
   "metadata": {},
   "source": [
    "SELECT DISTINCT * FROM table1 a JOIN table1 b ON(a.column1 = b.column1) GROUP BY column2, column3;"
   ]
  },
  {
   "cell_type": "markdown",
   "metadata": {},
   "source": [
    "Write a query that creates a table named \"food_table\", with a column of <1000 characters named \"food_type\" and a column of doubles named \"count\".  Set food_type as the primary key."
   ]
  },
  {
   "cell_type": "markdown",
   "metadata": {},
   "source": [
    "CREATE TABLE food_table(food_type VARCHAR(1000), count DOUBLE, PRIMARY KEY(food_type));"
   ]
  },
  {
   "cell_type": "markdown",
   "metadata": {},
   "source": [
    "Enter a new row into the \"food_table\", specifying hotdogs as a count of 7"
   ]
  },
  {
   "cell_type": "markdown",
   "metadata": {},
   "source": [
    "INSERT INTO food_table (food_type,count) VALUES ('hotdogs',7);"
   ]
  },
  {
   "cell_type": "markdown",
   "metadata": {},
   "source": [
    "Overwrite the entry for hotdogs to set count as 8"
   ]
  },
  {
   "cell_type": "markdown",
   "metadata": {},
   "source": [
    "REPLACE INTO food_table set food_type='hotdogs', count=8;"
   ]
  },
  {
   "cell_type": "markdown",
   "metadata": {},
   "source": [
    "Delete all rows in \"food_table\" where count is <3 "
   ]
  },
  {
   "cell_type": "markdown",
   "metadata": {},
   "source": [
    "DELET FROM food_table WHERE count < 3;"
   ]
  },
  {
   "cell_type": "markdown",
   "metadata": {},
   "source": [
    "Delete the \"food_table\" table"
   ]
  },
  {
   "cell_type": "markdown",
   "metadata": {},
   "source": [
    "DROP TABLE food_table;"
   ]
  },
  {
   "cell_type": "markdown",
   "metadata": {},
   "source": [
    "Import pymysql, set up a connection to a the \"indeed_database\" at localhost, using raknoche and localpswd as the credentials.  Use the connection to send the query \"Select * from JobListings WHERE JobSearched = 'data+scientist' LIMIT 10;\" to the database, and print all of the results.  Pass the 'data+scientst' string as a variable."
   ]
  },
  {
   "cell_type": "code",
   "execution_count": 1,
   "metadata": {
    "collapsed": false
   },
   "outputs": [
    {
     "data": {
      "text/plain": [
       "(('data+scientist',\n",
       "  '01/12/2016 12:10:26',\n",
       "  'Data Scientist with Machine Learning and NLP (Natural Language Processing)',\n",
       "  'Sunnyvale, CA',\n",
       "  \"['Natural Language Processing', 'Natural Language Processing', 'Natural Language Processing', 'Statistical Analysis', 'Statistical Modeling', 'Project Management', 'strategic planning', 'computer science', 'Machine Learning', 'Machine Learning', 'Machine Learning', 'Machine Learning', 'Machine Learning', 'Machine Learning', 'Neural Networks', 'Deep Learning', 'Web Analytics', 'Data Mining', 'Mathematics', 'Outsourcing', 'algorithms', 'Simulation', 'Statistics', 'Languages', 'MapReduce', 'big data', 'Modeling', 'Modeling', 'Modeling', 'Research', 'Manager', 'Hadoop', 'Python', 'Python', 'spark', 'HTTP', 'MOST', 'Sets', 'nlp', 'nlp', 'nlp', 'nlp', 'nlp', 'SAN', 'SQL', 'SQL', 'SQL', 'R', 'R']\",\n",
       "  \"Skip to Job Description, SearchClose Find JobsFind ResumesEmployers / Post Job Upload your resume Sign in : What Where Advanced Job Search job title, keywords or company city, state, or zip Data Scientist with Machine Learning and NLP (Natural Language Processing) 3MKLLC - Sunnyvale, CA Full-time,\\\\xa0Contract Job Title : Data Scientist with Machine Learning and NLP (* *Natural Language Processing) Deep Learning , Neural Networks Location: San Jose, CA Duration: Contract/C2H/FulltimeRate: $Open/hrJD:  We are seeking a smart and engaged Data Scientist to work with our large data sets. As an intelligence connection & search-product oriented firm you can imagine the amount of data we're uncovering .We need your help developing advanced mathematical and statistical models to map data and deliver web analytics.Our product is widely utilized but is perhaps most useful in an academic and / or research capacity.\\\\xb7 Natural Language Processing (NLP) , and Machine Learning\\\\xb7 Minimum Required Skills: R, Python, SQL, SQL, Hadoop, Algorithms, Machine Learning, Data Mining\\\\xb7 Data Scientist - machine learning & NLP modeling\\\\xb7 Machine learning development and deployment\\\\xb7 advanced NLP modeling\\\\xb7 big data framework experience (Spark, MapReduce)\\\\xb7 Bachelor's or Master's degree in Computer Science, Statistics, or Mathematics\\\\xb7 Develop statistical modeling techniques for pattern recognition problems.\\\\xb7 Develop code in Python, R, and SQL, or other object oriented languages for modeling optimization, simulation, and statistical analysis.\\\\xb7 Build models that maximize performance and accuracy\\\\xb7 Strategic planning and project management.PLEASE SEND YOUR RESUMES to narayanaAT3mkllc.com and call me @ 801-416-0999Regards,NarayanaSr Manager (Recruitments)3MK Software Solutions LLCContact:  801-416-0999Email:  narayanaAT3mkllc.comWebsite:  http://3mkllc.com/Job Type: Contract 15 days ago  - save job \\\\xbb Apply Now Please review all application instructions before applying to 3MKLLC. About this company 3MKLLC 3MK Software Solutions is the leading software service soltions provider and IT Staffing Supplier company, outsourcing and complex... About - Help Center \\\\xa92016 Indeed - Cookies, Privacy and Terms\",\n",
       "  '/company/3MKLLC/jobs/Data-Scientist-Machine-Learning-Nlp-1dadaf95ddb9df8d?r=1&fccid=34042a1048efac3d'),\n",
       " ('data+scientist',\n",
       "  '01/01/2017 03:51:27',\n",
       "  'Marketing Analyst/Data Scientist',\n",
       "  'St. Louis, MO',\n",
       "  \"['Business Intelligence', 'Business Intelligence', 'professional services', 'Software as a Service', 'Database management', 'Resource Management', 'critical thinking', 'product marketing', 'business process', 'Customer Service', 'fleet management', 'fleet management', 'Microsoft Office', 'Problem Solving', 'Problem Solving', 'Time Management', 'Data Analytics', 'Collaboration', 'Communication', 'Communication', 'Engineering', 'Leadership', 'Powerpoint', 'Analytics', 'Analytics', 'Analytics', 'Education', 'Functions', 'Marketing', 'Marketing', 'Marketing', 'Marketing', 'Marketing', 'Marketing', 'Marketing', 'Reporting', 'Analysis', 'Director', 'Packages', 'Research', 'Strategy', 'Mapping', 'outlook', 'Tableau', 'Tableau', 'Excel', 'IDEAS', 'flex', 'saas', 'eeo', 'GPS', 'GPS', 'llc', 'llc', 'llc', 'llc', 'mis', 'mis', 'mrm', 'pto', 'SQL', 'Go']\",\n",
       "  \"Skip to Job Description, SearchClose Find JobsFind ResumesEmployers / Post Job Upload your resume Sign in : What Where Advanced Job Search job title, keywords or company city, state, or zip Marketing Analyst/Data Scientist Agilis Systems, LLC - St. Louis, MO ABOUT AGILIS SYSTEMS, LLCAgilis Systems is a SaaS (Software as a Service) company providing the industry leading Mobile Resource Management (MRM) solution. By uniquely combining key technologies, the Agilis GPS/Fleet Management solution elevates its customers to the highest level of mobile productivity and customer service while dramatically reducing operating costs. Agilis Systems is poised to take a leadership position in this rapidly changing and expanding market.ABOUT THE POSITIONWe are looking for a Marketing Analyst/Data Scientist to work closely with our Product, Marketing and Engineering Teams to deliver outstanding business visualization and business efficacy reporting. We are a team with a passion for delivering solutions that go above and beyond the expectations of our users. The ideal candidate will thrive in a work environment that requires strong problem solving skills and independent self-direction, coupled with an aptitude for team collaboration and open communication. This individual excels at providing both highly analytical and creative ideas to a business intelligence project. The candidate will also have extensive experience in a fast-paced and innovative development environment.ESSENTIAL FUNCTIONS \\\\u2013 RESPONSIBILITIES: Evaluate current marketing analytics strategy and work with the marketing team to develop recommendations and improvementsMap key marketing systems and process improvementsAnalyze business process mapping, analytics, and reportingIdentify opportunities within the market for expansionSupport the marketing team on ad hoc projects supporting the various internal Agilis Systems departmentsSource and generate various leads for business opportunitiesAll other marketing related duties assigned by Director of Digital MarketingQUALIFICATIONSBachelor\\\\u2019s degree in Business, MIS or related field, Master\\\\u2019s degree in Business, MIS, or related field preferredWorking knowledge of the most current technologies and products used in the software industryWorking knowledge of Tableau and SQL or other Business Intelligence suites and Relational Database Management SystemsExperience using data analytics tools such as Google AnalyticsExcellent critical thinking and analytical problem solving skills requiredExcellent written and verbal communication skills requiredOrganizational and time management skills requiredProficient with Microsoft Office (Outlook, Excel, Word, PowerPoint) required with an emphasis in ExcelWork EnvironmentThe hours of this position are Monday through Friday from 8:00 AM until 5:00 PMFast-paced environment with opportunities for growth and rewardCompany promotes work/life balance to achieve maximum performance professionally and personallyCompensation and BenefitsWe value hard work and on-the-job-excellence, so we offer competitive compensation and benefits packages:This position offers a Base SalaryMedical, Dental, Vision, Life and 401(k) benefits are offered17 Flex Days (PTO)EEO STATEMENTAgilis Systems, LLC is an Equal Employment Opportunity Employer and will not discriminate against or harass any applicant or employee on any grounds prohibited under any federal, state or local law, including race, creed, color, religion, sex, national origin, age, disability, sexual orientation, marital status, status with regard to public assistance, veteran status, citizenship or membership in any other legally protected class.Job Type: Full-timeRequired education:Bachelor'sRequired experience:Tableau: 1 yearGoogle Analytics: 1 yearMarket Research: 1 yearSQL: 1 yearData Analysis: 1 year 2 days ago   -  save job \\\\xbb Apply Now Please review all application instructions before applying to Agilis Systems, LLC. Other jobs you may like Data Scientist Technology Partners - St. Louis, MO 11 days ago NALAN TD Data Scientist MONSANTO - St. Louis, MO Monsanto\\\\xa0- 16 days ago Data Scientist (MACSM) Celestar Corporation - St. Louis, MO 27 days ago Data Scientist Smart Swarm Professional Services - St. Louis, MO Indeed\\\\xa0- 30 days ago Easily apply Data Scientist Ameren - St. Louis, MO 12 days ago Agilis Systems, LLC Agilis Systems develops easy-to-use, location-based software solutions. Key areas of emphasis include GPS fleet management and mobile... About - Help Center \\\\xa92017 Indeed - Cookies, Privacy and Terms\",\n",
       "  '/company/Agilis-Systems/jobs/Marketing-Analyst-Data-Scientist-28739e61da7c8f13?r=1&fccid=e9bee749a8d92112'),\n",
       " ('data+scientist',\n",
       "  '01/01/2017 03:45:59',\n",
       "  'Data Scientist',\n",
       "  'Danville, CA',\n",
       "  \"['Business Intelligence', 'Investment Management', 'customer engagement', 'Evaluation Methods', 'Machine Learning', 'Data Collection', 'Programming', 'algorithms', 'Analysis', 'Research', 'Research', 'Research', 'Workday', 'Go', 'lp', 'R']\",\n",
       "  'Skip to Job Description, SearchClose Find JobsFind ResumesEmployers / Post Job Upload your resume Sign in : What Where Advanced Job Search job title, keywords or company city, state, or zip Data Scientist AllianceIT - Danville, CA Contract Job Title: Data ScientistLocation: Contra Costa, CADuration: 1 year Contract (he said it would probably go 2-3 years)Fundamental Components: The role will apply analytical rigor and statistical methods to analyze large amounts of data and develop insights.Performs applied statistical research and custom analysis of integrated healthcare data, interprets results, and makes recommendations based on analytic findings to business areas.Makes recommendations about data collection methods, metrics definition and evaluation methods.Defines and delivers analytical solutions in support of healthcare business initiatives that drive short and long term objectives.Collaborates with internal and external partners and organizations in the design and execution of analytic studies to answer business and research questions.Develops, validates and executes algorithms, statistical models and business intelligence tools that answer applied research and business questions.Develops and participates in presentations and consultations to internal and external clients.Demonstrated extensive and diverse knowledge of customer engagement metrics, health care data, systems and standards; demonstrated subject matter expert in multiple subject areas.Background/Experience: 3+ years of experience as a Data Scientist.Experience in the Healthcare IndustryWell-versed in statistical model building and concepts.MUST have experience using R Programming to manipulate large datasets and develop statistical models.Thanks,Hrinish PatalayAlliance ITC: 925-888-9322 \\\\xa9O: 925-973-0000 X 211E: hrinish(AT)allianceit.comJob Type: Contract 19 days ago   -  save job \\\\xbb Apply Now Please review all application instructions before applying to AllianceIT. Other jobs you may like Data Scientist/Machine Learning Engineer Workday - Pleasanton, CA 22 days ago Data Scientist / Engineer / Statistician Alambic Investment Management, LP - San Francisco, CA Indeed\\\\xa0- 15 days ago Easily apply Health Data Scientist Grit Matters - San Mateo, CA 10 days ago Data Scientist Chartboost - San Francisco, CA 3 days ago Easily apply Sr Data Scientist GE Corporate - San Ramon, CA GE Careers\\\\xa0- 30+ days ago About - Help Center \\\\xa92017 Indeed - Cookies, Privacy and Terms',\n",
       "  '/company/AllianceIT/jobs/Data-Scientist-c7c01b6fbe2dc1dc?r=1&fccid=84870ae9003a2a10'),\n",
       " ('data+scientist',\n",
       "  '01/12/2016 12:18:18',\n",
       "  'Data Analyst',\n",
       "  'Boston, MA',\n",
       "  \"['computer science', 'Data Structures', 'Communications', 'Data Analysis', 'Data Science', 'Data Science', 'publications', 'Mathematics', 'algorithms', 'Statistics', 'Economics', 'Education', 'Foremost', 'Research', 'Revenues', 'Compass', 'Signals', 'Coding', 'Drives', 'Python', 'Face', 'MOST', 'AWS', 'EDA', 'ml', 'R']\",\n",
       "  \"Skip to Job Description, SearchClose Find JobsFind ResumesEmployers / Post Job Upload your resume Sign in : What Where Advanced Job Search job title, keywords or company city, state, or zip Data Analyst Apptopia Inc - Boston, MA Backed by well known investors like Mark Cuban and Ashton Kutcher, Apptopia is the fastest growing mobile app intelligence company in the world. Our data science group is the heart of the organization and our mission is to make Apptopia's mobile app predictions (downloads, revenue, usage) the most trusted in the industry, and relentlessly seek to discover new ways to harness our data to create value for customers.First and foremost, we are looking for hackers, makers, doers that have grit, hustle, and strive for excellence in everything they do.As a Data Scientist, you will:Be creative and clever in solving complex computational problems in the face of large, messy, and incomplete dataManage several long term research projects and short term ad hoc analyses that inevitably happen during rapid growth.Develop a deep understanding of the global app market, our product functionality and customer perspective to provide context for every problem.Conduct EDA to generate new hypotheses and insights so that we know things before anyone else.Engage with stakeholders to produce clear, compelling, actionable insights that influence product and service improvements that will influence the future of the global app economy.Do you want to be a part of a world-class data science group that drives the future of a business and an industry? Come join us.Qualifications1-3 years experienceInsatiable curiosity and team player, this is a place where \\\\u201cI\\\\u201d comes to die.Demonstrable depth of coding skills (algorithms, data structures); we primarily use R, Python, JavascriptBIG data skills. Demonstrable experience computing on large data using SparkAnalytical chops. Bachelors degree in computer science, statistics, mathematics, economics, or other quantitative-focused field or rigorous online programs such as edX/Udacity. Other signals can substitute for formal schooling, such as publications in these respective fields.Demonstrable experience in data analysis and applying statistical concepts; understanding ML principles is a plus.Familiarity with AWS and Cassandra DB is desirable.Strong interpersonal and communications skills.Job Type: Full-timeJob Location:Boston, MARequired education:Bachelor'sRequired experience:Data Analyst: 1 year 22 days ago  - save job \\\\xbb Apply Now Please review all application instructions before applying to Apptopia Inc. Other jobs you may like Data Analyst Jobspring Partners - Boston, MA 9 days ago QUANTITATIVE BUSINESS ANALYST USA (MA) managementsolutions - Boston, MA 13 days ago Data Analyst LabAnswer - Boston, MA 30+ days ago Data Scientist Indeed Prime - Boston, MA Indeed\\\\xa0- 30+ days ago Intern Compass Lexecon - Boston, MA 26 days ago About this company Apptopia Inc Apptopia provides highly accurate data and intelligence on the mobile app industry by estimating downloads, revenues, and active users for... About - Help Center \\\\xa92016 Indeed - Cookies, Privacy and Terms\",\n",
       "  '/company/Apptopia-Inc/jobs/Data-Analyst-24087644f126296d?r=1&fccid=465eb5c6af9100f3'),\n",
       " ('data+scientist',\n",
       "  '01/12/2016 12:08:05',\n",
       "  'Data Scientist',\n",
       "  'Troy, MI',\n",
       "  \"['start-up environment', 'Data Visualization', 'Machine Learning', 'Machine Learning', 'Machine Learning', 'Data Collection', 'Communication', 'Data Science', 'Programming', 'Presenting', 'Regression', 'Simulation', 'Statistics', 'Education', 'INTEGRITY', 'Languages', 'Scripting', 'Analysis', 'big data', 'Testing', 'Plotly', 'Python', 'D3.js', 'IoT', 'io', 'R']\",\n",
       "  \"Skip to Job Description, SearchClose Find JobsFind ResumesEmployers / Post Job Upload your resume Sign in : What Where Advanced Job Search job title, keywords or company city, state, or zip Data Scientist Aquasight - Troy, MI ResponsibilitiesProcessing, cleansing, and verifying the integrity of data used for analysisSelecting features, building right models using machine learning techniquesModeling, Optimization, Simulation, Machine learning and Artificial Intelligence methods and techniquesEnhancing data collection ability (real time data)Extending company\\\\u2019s data with third party sources of information when neededDoing ad-hoc analysis and presenting results in a clear mannerCreating automated scripts to run the modelsSkills and QualificationsExceptional understanding of machine learning techniques and algorithmsExperience with common data science libraries (Python or R)Great communication skillsExperience with data visualization tools, such as Plotly, D3.js, GGplot, etc.Proficiency in using query languages such as SQLGood applied statistics skills, such as distributions, statistical testing, regression, etc.Good scripting and programming skillsData-oriented thinkingHighly motivated to solve real-life problemsAble to work in a start-up environment (very challenging)Job Type: Full-timeRequired education:Master'sRequired experience:Data Scientist: 1 year 20 days ago  - save job \\\\xbb Apply Now Please review all application instructions before applying to Aquasight. About this company Aquasight Aquasight is a Big-data/IoT business for life cycle of water and wastewater, based in Troy, MI (www.aquasight.io) We are expanding rapidly... About - Help Center \\\\xa92016 Indeed - Cookies, Privacy and Terms\",\n",
       "  '/company/Aquasight/jobs/Data-Scientist-e39774e8180d4b1a?r=1&fccid=61c9d39ac7a8c615'),\n",
       " ('data+scientist',\n",
       "  '01/01/2017 03:50:27',\n",
       "  'Data Scientist - Staff Engineer',\n",
       "  'Palo Alto, CA',\n",
       "  \"['Machine Learning Algorithms', 'Electrical Engineering', 'Information Technology', 'Network Architecture', 'Software Development', 'Software Development', 'Statistical Modeling', 'applied mathematics', 'applied mathematics', 'computer science', 'Machine Learning', 'Data Structures', 'Infrastructure', 'Communication', 'algorithms', 'Consulting', 'Statistics', 'Statistics', 'Education', 'Palo Alto', 'Palo Alto', 'Palo Alto', 'Analysis', 'big data', 'Algebra', 'Physics', 'Hadoop', 'Hadoop', 'Scala', 'Scala', 'spark', 'spark', 'Java', 'Java', 'LTE', 'LTE']\",\n",
       "  \"Skip to Job Description, SearchClose Find JobsFind ResumesEmployers / Post Job Upload your resume Sign in : What Where Advanced Job Search job title, keywords or company city, state, or zip Data Scientist - Staff Engineer Arka - Palo Alto, CA Role: Data Scientist - Staff EngineerLocation : Palo Alto, CADuration: Long Term/(possibility of C2H)Data Scientist - Staff Engineer Stay on the front lines of groundbreaking technology. We\\\\u2019re committed to a dynamic, ever-evolving infrastructure and the hard work it takes to keep our reliable network thriving. Help support the growing demands of an interconnected world.Develop analytical (predictive, optimization) solutions using machine learning and statistical modeling on big data platform.Lead and guide a group of junior algorithm developers and data scientists.Formulate business problems into mathematical models effectively.Understand the trade-off's among the various machine learning algorithms (existing and emerging) and make the right choice that serves the business objectives.Effectively communicate and collaborate within and across teamsQualificationsGraduate degree in Computer Science, Electrical Engineering, Applied Mathematics, Statistics or Physics.Experience working with large data stores and distributed computing, and some experience in building softwareSolid foundation in applied mathematics, such as: statistics, linear algebra, optimizationStrong foundation in data structures and algorithms design, big-O analysis.Detail oriented, excellent quantitative, written, and oral communication skills3+ years experience in software development (Java, Scala etc.).2+ years hands on experience with Hadoop, Spark technologies.Desired Skills/Experience;8+ years experience in software development (Java, Scala etc.).Production level implementation with Hadoop, Spark technologies.Working knowledge about 4G LTE network architecture and SDN (Software Defined Network).Job Type: Full-timeJob Location:Palo Alto, CARequired education:Bachelor'sRequired experience:4G LTE network: 1 yearScala: 4 yearsJava: 4 yearsHadoop: 4 yearsData Scientist: 8 yearsSpark: 4 years 12 days ago   -  save job \\\\xbb Apply Now Please review all application instructions before applying to Arka. Arka ARKA InfoTech is a leading information technology development and consulting firm serving clients throughout the United States. We aim to... About - Help Center \\\\xa92017 Indeed - Cookies, Privacy and Terms\",\n",
       "  '/company/Arka-Infotech-Inc/jobs/Data-Scientist-bfc90ed498edc75e?r=1&fccid=92af08de51f22ff9'),\n",
       " ('data+scientist',\n",
       "  '01/01/2017 03:54:32',\n",
       "  'Data Scientist (R Language)',\n",
       "  'Doral, FL',\n",
       "  \"['Business Intelligence', 'Statistical Analysis', 'critical thinking', 'computer science', 'Machine Learning', 'Machine Learning', 'Machine Learning', 'Machine Learning', 'experimentation', 'Problem Solving', 'Data Analytics', 'Data Analysis', 'Data Mining', 'Data Mining', 'Mathematics', 'Mathematics', 'Management', 'Statistics', 'Statistics', 'Developer', 'Education', 'Scripting', 'big data', 'Modeling', 'Research', 'spanish', 'Python', 'Python', 'Python', 'nosql', 'rdbms', 'APIs', 'dmx', 'R', 'R', 'R']\",\n",
       "  \"Skip to Job Description, SearchClose Find JobsFind ResumesEmployers / Post Job Upload your resume Sign in : What Where Advanced Job Search job title, keywords or company city, state, or zip Data Scientist (R Language) Ascendo Resources - Doral, FL $75,000 a year R Language, Python, Machine Learning, AWS,Data Analyst/ScientistOur client is We looking for a Data Scientist that will help discover the information hidden in vast amounts of data, and help us make smarter decisions to deliver even better products. Your primary focus will be in applying data mining techniques, doing statistical analysis, and building high quality prediction systems integrated with our products.Conduct statistical analyses of business data, evaluate trends and pattern.Help identify actionable insights and make recommendations to influence the business.Assist with data mining and building models using machine learning techniques.Use predictive modeling, statistics, machine learning, advanced mathematics and other data analysis techniques to collect, explore, and extract insights from data.Perform large scale experimentation and translate data into intelligence.Required: Degree in Computer Science, Mathematics, Statistics or related disciplineExpertise in research methods, machine learning, cloud based and big data technologies.Experience in accessing data stores: RDBMS, NoSQL, and APIs/Web servicesExperience using R or Python to manipulate large datasets and develop statistical models.Knowledge of scripting languages like PythonStrong problem solving skills and critical thinking abilityAbility to translate business requirements to technical requirementsExperience working on Mac environmentJob Type: Full-timeSalary: $75,000.00 /yearJob Location:Doral, FLRequired education:Bachelor'sRequired experience:Python: 1 yearR Language: 2 yearsRequired language:Spanish 28 days ago   -  save job \\\\xbb Apply Now Please review all application instructions before applying to Ascendo Resources. Other jobs you may like Data Scientist JetSmarter - Fort Lauderdale, FL 14 days ago Data Analytics and Business Intelligence Anal... Strategic IT Staffing - Miami, FL 19 days ago Data Scientist Phynance Capital Management - Miami, FL Indeed\\\\xa0- 11 days ago Easily apply Data Scientist - DMX DELUXE CORPORATION - Boca Raton, FL Deluxe\\\\xa0- 15 days ago Software Developer, BI Programmer Ascendo Resources - Doral, FL Indeed\\\\xa0- 11 days ago Easily apply About - Help Center \\\\xa92017 Indeed - Cookies, Privacy and Terms\",\n",
       "  '/company/Ascendo-Resources/jobs/Data-Scientist-a9aca84eb2c01604?r=1&fccid=9ad387645d9af8c3'),\n",
       " ('data+scientist',\n",
       "  '01/12/2016 12:16:58',\n",
       "  'Data Scientist',\n",
       "  'Austin, TX',\n",
       "  \"['Natural Language Processing', 'Natural Language Processing', 'Computational Linguistics', 'Engineering Services', 'knowledge management', 'knowledge management', 'Software Development', 'Integration Testing', 'product marketing', 'computer science', 'Data Acquisition', 'Machine Learning', 'Project Manager', 'Classification', 'Classification', 'Data Analytics', 'Data Analytics', 'Identification', 'Data Analysis', 'Dictionaries', 'Data Mining', 'Data Mining', 'Data Mining', 'algorithms', 'Clustering', 'Innovation', 'Leadership', 'Education', 'Palo Alto', 'Analysis', 'Packages', 'Packages', 'planning', 'Research', 'Services', 'Services', 'Routing', 'Systems', 'Systems', 'Design', 'Hadoop', 'Python', 'Icon', 'Java', 'Sets', 'Weka', 'art', 'nlp', 'C']\",\n",
       "  \"Skip to Job Description, SearchClose Find JobsFind ResumesEmployers / Post Job Upload your resume Sign in : What Where Advanced Job Search job title, keywords or company city, state, or zip Data Scientist ASICSoft - Austin, TX Title:  Senior Research EngineerJob Type:  Permanent (Full-Time)Location:  Palo Alto, CA 94304Job Description: Senior Scientist \\\\u2013 Knowledge Acquisition and ManagementResponsibilities: Create and apply existing state of the art Data Mining and Machine Learning tools and techniques to acquire and create high quality data sets.Develop software packages, prototypes and workflows. Demonstrate leadership through concrete action and result-oriented approach. Design and implement concrete Knowledge Management solutions on large-scale production systems. Actively participate in planning, updates on ongoing project progress and deliverables with other members of Data Ninja team.Skills and ExperienceS. (M. S. or Ph. D. preferred) in Computer Science or Engineering5+ years of experience in Data Mining and Machine LearningExperience with Natural Language Processing, Computational Linguistics and Text MiningExperience in Web-scale data acquisition and miningTaxonomies, dictionaries and theasauri acquisition for Classification, Entity Extraction, Concept Identification, Semantic SearchDesign and implementation skills in your language of choice: Java, C++, Python, ScalaFamiliarity with agile software development methodology and QA processes.Familiarity with Open Services Innovation approach.Experience with large-scale data analysis frameworks: Hadoop ecosystem, NoSQLDesired Skills: Experience with Knowledge Management for Natural Language Processing and Information Retrieval applications and services: clustering, routing, classification, search.Experience with Open Source Data Mining packages like Weka, MOA, libSVM or pLDA.Experience with streaming algorithms and practical analysis of real-time data streamsExperience with parallel and distributed approaches to Data Analytics and Text MiningExperience with Data Analytics in the CloudThanks!SaurabhASICSoft770-881-8514saurabh(AT)asicsoft.com-----------------------------------Follow ASICSoft and stay up todate on our latest Jobs & info!Click the Icon JJob Type: Full-timeRequired education:Master'sRequired experience:NLP: 5 yearsData Scientist: 5 years 23 days ago  - save job \\\\xbb Apply Now Please review all application instructions before applying to ASICSoft. Other jobs you may like Systems Integration Testing-Consultant Deloitte - Austin, TX 19 days ago Junior Technical Project Manager The HT Group - Austin, TX Indeed\\\\xa0- 23 days ago Easily apply Software Test Engineer TransCore - Round Rock, TX 30+ days ago QA Analyst II uShip - Austin, TX 16 days ago Data Scientist SparkCognition - Austin, TX 7 days ago Easily apply About this company ASICSoft ASICSoft is an engineering services and product marketing company.  Our mission is \\\\u201cDesigns on Time\\\\u201d.  We partner with technical leaders in... About - Help Center \\\\xa92016 Indeed - Cookies, Privacy and Terms\",\n",
       "  '/company/ASIC-Soft/jobs/Data-Scientist-66dc0d7a081c265c?r=1&fccid=28488579c05bbd29'),\n",
       " ('data+scientist',\n",
       "  '01/01/2017 03:54:11',\n",
       "  'Data Scientist - Recommendation Engine',\n",
       "  'San Francisco, CA',\n",
       "  \"['Project Management', 'High Availability', 'computer science', 'Design Patterns', 'Engineering', 'Engineering', 'Consulting', 'Handlebars', 'Javascript', 'Education', 'Education', 'Functions', 'big data', 'big data', 'Node.js', 'Coding', 'Hadoop', 'jQuery', 'Flume', 'nosql', 'spark', 'cell', 'Java']\",\n",
       "  \"Skip to Job Description, SearchClose Find JobsFind ResumesEmployers / Post Job Upload your resume Sign in : What Where Advanced Job Search job title, keywords or company city, state, or zip Data Scientist - Recommendation Engine Bayone Solutions Inc. - San Francisco, CA $160,000 a year - Full-time,\\\\xa0Contract Position - Data Scientist - Recommendation EngineLocation - San Francisco CATerms - Fulltime - DirectHire / Contract-to-HireEssential Functions: Design and implement critical functionality of applicationsHands on coding skills requiredSense of ownershipOwn the application suite roadmapWork closely with development team to ensure design patterns and direction is successfully and consistently implementedWork with business and business analysts to understand end user needs and future business directionDeliver capabilities with high qualityWork with the Technical Lead to get tasks and assignmentsCollaborate with other Architects and technologists to align suite design and roadmap with larger company direction and roadmapRegular, dependable attendance & punctualityQualifications: Education/Experience: Bachelor's Degree in Computer Science/Engineering required5 years application design experience using design patterns7+ years full life cycle developmentMinimum of 7 years of back-end experience within a Java and Big Data environment, Experience with applications being built using Spring2+ years experience with Big Data ecosystem: Spark, Hadoop, Flume, NoSQL, etcExperience with High availability scalable web applicationsExperience with Cloud enabled MicroservicesExperience with server side Javascript, Node.JS focused on scalability and performanceExperience with jQuery, Backbone/angular, Marionnette, Handlebars a strong plusThanks & Regards . ...\\\\u270dAnish RajanSr. Technical RecruiterBayOne Solutions (925) 307-7130 (Desk) ; (415) 655-1097 (Cell)arajan[@]bayonesolutions[.]comwww.BayOneSolutions.comJob Type: Full-timeSalary: $160,000.00 /yearJob Location:San Francisco, CARequired education:Master'sRequired experience:Recommendation Engine: 1 year 30+ days ago   -  save job \\\\xbb Apply Now Please review all application instructions before applying to Bayone Solutions Inc.. Other jobs you may like Lead Data Scientist Raise.me - San Francisco, CA VentureLoop\\\\xa0- 2 days ago Data Scientist - Recommendation Engine iSoft Solutions - San Francisco, CA Indeed\\\\xa0- 17 days ago Easily apply Data Scientist Affirm - San Francisco, CA 15 days ago Data Scientist Microsoft - San Francisco, CA 17 days ago Bayone Solutions Inc. About BayOne Solutions: BayOne is an IT Consulting and Staffing services company specializing in Project Management, Quality Engineering,... About - Help Center \\\\xa92017 Indeed - Cookies, Privacy and Terms\",\n",
       "  '/company/Bayone-Solutions-Inc./jobs/Data-Scientist-7855c3b0a7c957a3?r=1&fccid=c1b0edadef205425'),\n",
       " ('data+scientist',\n",
       "  '01/12/2016 12:16:43',\n",
       "  'Genetic Data Scientist',\n",
       "  'Cambridge, MA',\n",
       "  \"['Relationship Building', 'clinical development', 'Data Interpretation', 'product development', 'Project Management', 'strategic planning', 'clinical research', 'clinical research', 'clinical research', 'clinical research', 'computer science', 'clinical trials', 'time-efficient', 'Biostatistics', 'Communication', 'Communication', 'Data Analysis', 'Life Sciences', 'epidemiology', 'Informatics', 'Consulting', 'Consulting', 'Consulting', 'Consulting', 'Consulting', 'Consulting', 'Healthcare', 'Innovation', 'Innovation', 'Education', 'Analysis', 'Analysis', 'Genetics', 'planning', 'Research', 'Services', 'Health', 'Health', 'Health', 'Health', 'Health', 'MATLAB', 'Safety', 'llc', 'SAS', 'R']\",\n",
       "  'Skip to Job Description, SearchClose Find JobsFind ResumesEmployers / Post Job Upload your resume Sign in : What Where Advanced Job Search job title, keywords or company city, state, or zip Genetic Data Scientist BBCR Consulting - Cambridge, MA Part-time About Us \\\\u2013 BBCR Consulting LLC.Boston Biotech Clinical Research (BBCR) Consulting is a Cambridge-based strategic clinical innovation organization (SCIO) that offers simplified, customized approaches to planning and conducting clinical research. BBCR has a strong knowledge of drug safety, strategic planning and how to maximize the potential of early phase clinical research. BBCR helps biotech, pharmaceutical and device companies to deliver capital- and time-efficient clinical development programs \\\\u2013 and thereby helps fulfill their product development strategies.Job DescriptionThe genetic data scientist will take responsibility for the analysis of genetic test data from clinical trials. The ideal candidate should have experience of analyzing genetic datasets, enthusiastic about using analytical data results to support clinical trial results.Tasks and Responsibilities: Retrieve, organize and analyze genetic test data from clinical testsSummarize data in graphs and tablesProvide data interpretation for manuscript and regulatory documentsCommunicate analysis results to a variety of audiences including clinicians, scientists, industry executives, and clientsQualificationsPhD degree in epidemiology, genetics, health services research, informatics, biostatistics, computer science, or a related quantitative discipline.Familiarity with data analytical tools such as R, SAS, Matlab, etcAt least one year of healthcare domain knowledge in life sciences, health data, or health ITPassionate about analyzing clinical trial data and capable of learning fastEntrepreneurial and intellectual curiosity in the application of health data to solve real business problemsExcellent communication skills (both written and oral)Results-oriented in project management, communication, and relationship building to influence decision-makingAbility to collaborate in team environment with diverse talent and cultureJob Type: Part-timeJob Location:Cambridge, MARequired education:DoctorateRequired experience:Health Data Analysis: 1 year 21 days ago  - save job \\\\xbb Apply Now Please review all application instructions before applying to BBCR Consulting. About this company BBCR Consulting Boston Biotech Clinical Research (BBCR) Consulting is a Cambridge-based strategic clinical innovation organization (SCIO) that offers... About - Help Center \\\\xa92016 Indeed - Cookies, Privacy and Terms',\n",
       "  '/company/BBCR-Consulting/jobs/Genetic-Data-Scientist-3e2a24e3b68ab979?r=1&fccid=fe5f3b5d9090a402'))"
      ]
     },
     "execution_count": 1,
     "metadata": {},
     "output_type": "execute_result"
    }
   ],
   "source": [
    "import pymysql as sql\n",
    "\n",
    "con = sql.connect('localhost','raknoche','localpswd','indeed_database');\n",
    "\n",
    "with con:\n",
    "    query = \"SELECT * FROM JobListings WHERE JobSearched = %s LIMIT 10;\"\n",
    "    cur = con.cursor()\n",
    "    cur.execute(query,('data+scientist'));\n",
    "    results = cur.fetchall()\n",
    "    \n",
    "results"
   ]
  },
  {
   "cell_type": "code",
   "execution_count": null,
   "metadata": {
    "collapsed": true
   },
   "outputs": [],
   "source": []
  }
 ],
 "metadata": {
  "kernelspec": {
   "display_name": "Python 3",
   "language": "python",
   "name": "python3"
  },
  "language_info": {
   "codemirror_mode": {
    "name": "ipython",
    "version": 3
   },
   "file_extension": ".py",
   "mimetype": "text/x-python",
   "name": "python",
   "nbconvert_exporter": "python",
   "pygments_lexer": "ipython3",
   "version": "3.5.1"
  }
 },
 "nbformat": 4,
 "nbformat_minor": 0
}
